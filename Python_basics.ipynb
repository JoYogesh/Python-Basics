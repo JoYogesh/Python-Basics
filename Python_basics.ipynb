{
  "nbformat": 4,
  "nbformat_minor": 0,
  "metadata": {
    "colab": {
      "provenance": []
    },
    "kernelspec": {
      "name": "python3",
      "display_name": "Python 3"
    },
    "language_info": {
      "name": "python"
    }
  },
  "cells": [
    {
      "cell_type": "markdown",
      "source": [
        "# 1. What is Python, and why is it popular\n",
        "Python is a high-level, interpreted programming language known for its simplicity, readability, and vast libraries. It is popular due to:\n",
        "- Easy syntax\n",
        "- Extensive standard libraries\n",
        "- Strong community support\n",
        "- Versatile usage in data science, web development, automation, etc.\n"
      ],
      "metadata": {
        "id": "-sNjyT6KSh19"
      }
    },
    {
      "cell_type": "markdown",
      "source": [
        "# 2. What is an interpreter in Python\n",
        "An interpreter executes Python code line-by-line, translating it into machine code at runtime. This allows for easier debugging and faster development.\n"
      ],
      "metadata": {
        "id": "Tv4NfppsS0It"
      }
    },
    {
      "cell_type": "markdown",
      "source": [
        "# 3. What are pre-defined keywords in Python\n",
        "Keywords are reserved words that Python uses for its syntax rules. Examples include: if, else, while, def, class, etc.\n"
      ],
      "metadata": {
        "id": "HLboQmh9S4I6"
      }
    },
    {
      "cell_type": "markdown",
      "source": [
        "# 4. Can keywords be used as variable names\n",
        "No. Python does not allow using keywords as variable names. It results in a SyntaxError.\n"
      ],
      "metadata": {
        "id": "YzokdQgdTZiV"
      }
    },
    {
      "cell_type": "markdown",
      "source": [
        "# 5. What is mutability in Python\n",
        "Mutability defines whether the value of an object can be changed after it's created.\n",
        "\n",
        "- Mutable: List, Dictionary, Set\n",
        "- Immutable: Tuple, String, Integer\n"
      ],
      "metadata": {
        "id": "v7LjcSjrTpoB"
      }
    },
    {
      "cell_type": "markdown",
      "source": [
        "# 6. Why are lists mutable, but tuples are immutable\n",
        "Lists are designed for dynamic data, so they allow modification. Tuples are meant for fixed data collections, hence they are immutable for safety and performance.\n"
      ],
      "metadata": {
        "id": "40ehEMZsUJKP"
      }
    },
    {
      "cell_type": "markdown",
      "source": [
        "# 7.  What is the difference between “==” and “is” operators in Python\n",
        "- == checks value equality.\n",
        "- is checks identity (whether both point to the same memory location).\n"
      ],
      "metadata": {
        "id": "CWPENdzNUr-b"
      }
    },
    {
      "cell_type": "markdown",
      "source": [
        "# 8. What are logical operators in Python\n",
        "- and: Returns True if both statements are true\n",
        "- or: Returns True if at least one statement is true\n",
        "- not: Reverses the result\n"
      ],
      "metadata": {
        "id": "eMUF7xlRU_uq"
      }
    },
    {
      "cell_type": "markdown",
      "source": [
        "# 9. What is type casting in Python\n",
        "Type casting is converting a value from one data type to another.\n",
        "- Example: int(\"5\") converts string to integer\n"
      ],
      "metadata": {
        "id": "aHxr6XzNVMmO"
      }
    },
    {
      "cell_type": "markdown",
      "source": [
        "# 10. What is the difference between implicit and explicit type casting\n",
        "- Implicit: Done automatically by Python (int + float = float)\n",
        "- Explicit: Done using functions like int(), float(), str()\n"
      ],
      "metadata": {
        "id": "getZDoZfVYk7"
      }
    },
    {
      "cell_type": "markdown",
      "source": [
        "# 11. What is the purpose of conditional statements in Python\n",
        "They allow decision-making in a program using conditions.\n"
      ],
      "metadata": {
        "id": "Mv9puDKOWqWp"
      }
    },
    {
      "cell_type": "markdown",
      "source": [
        "# 12. How does the elif statement work\n",
        "elif is used for multiple conditions after an initial if. It checks sequentially until one is true.\n"
      ],
      "metadata": {
        "id": "w7_5U5LdW4JJ"
      }
    },
    {
      "cell_type": "markdown",
      "source": [
        "# 13. What is the difference between for and while loops\n",
        "- for: Used for a known range or sequence\n",
        "- while: Used when the condition is based on logic, not a range\n"
      ],
      "metadata": {
        "id": "ypnErkSgXI7W"
      }
    },
    {
      "cell_type": "markdown",
      "source": [
        "# 14. Describe a scenario where a while loop is more suitable than a for loop.\n",
        " Retry a network request until success\n",
        "\n",
        "Sometimes, when a program tries to connect to a server (e.g., downloading a file), the request might fail due to temporary issues like:\n",
        "\n",
        "No internet connection\n",
        "\n",
        "Server is down\n",
        "\n",
        "Timeout errors\n",
        "\n",
        "In such cases, a while loop is useful to keep trying until the request succeeds."
      ],
      "metadata": {
        "id": "Cr2ezsIoXmll"
      }
    },
    {
      "cell_type": "code",
      "source": [
        "# 1. Write a Python program to print \"Hello, World!\n",
        "print(\"Hello, World!\")"
      ],
      "metadata": {
        "colab": {
          "base_uri": "https://localhost:8080/"
        },
        "id": "4jROXkOSYS4G",
        "outputId": "d890f947-b984-4de6-c642-ed1acff71beb"
      },
      "execution_count": 2,
      "outputs": [
        {
          "output_type": "stream",
          "name": "stdout",
          "text": [
            "Hello, World!\n"
          ]
        }
      ]
    },
    {
      "cell_type": "code",
      "source": [
        "# 2. Write a Python program that displays your name and age\n",
        "name = input(\"Enter your name: \")\n",
        "age = int(input(\"Enter your age: \"))\n",
        "print(f\"Your name is {name} and age is {age}\")"
      ],
      "metadata": {
        "colab": {
          "base_uri": "https://localhost:8080/"
        },
        "id": "y7a_kny7YhT7",
        "outputId": "b964c533-1e46-485e-8247-83ccac4c3e9d"
      },
      "execution_count": 3,
      "outputs": [
        {
          "output_type": "stream",
          "name": "stdout",
          "text": [
            "Enter your name: Yogesh\n",
            "Enter your age: 27\n",
            "Your name is Yogesh and age is 27\n"
          ]
        }
      ]
    },
    {
      "cell_type": "code",
      "source": [
        "# 3. Write code to print all the pre-defined keywords in Python using the keyword library\n",
        "import keyword\n",
        "\n",
        "print(keyword.kwlist)"
      ],
      "metadata": {
        "colab": {
          "base_uri": "https://localhost:8080/"
        },
        "id": "DTIwCy2AZf3Q",
        "outputId": "b7add61a-ed0c-4f5b-e335-12bb8f4ca702"
      },
      "execution_count": 4,
      "outputs": [
        {
          "output_type": "stream",
          "name": "stdout",
          "text": [
            "['False', 'None', 'True', 'and', 'as', 'assert', 'async', 'await', 'break', 'class', 'continue', 'def', 'del', 'elif', 'else', 'except', 'finally', 'for', 'from', 'global', 'if', 'import', 'in', 'is', 'lambda', 'nonlocal', 'not', 'or', 'pass', 'raise', 'return', 'try', 'while', 'with', 'yield']\n"
          ]
        }
      ]
    },
    {
      "cell_type": "code",
      "source": [
        "# 4. Write a program that checks if a given word is a Python keyword.\n",
        "\n",
        "input_kw = input(\"Enter the keyword: \")\n",
        "for kw in [input_kw]:\n",
        "  print(f\"Your entered keyword `{kw}` is a python keyword: {keyword.iskeyword(kw)}\")\n"
      ],
      "metadata": {
        "colab": {
          "base_uri": "https://localhost:8080/"
        },
        "id": "Rwa3pES2ZwmT",
        "outputId": "75e1ad20-d9d2-4cd5-80d9-8b1787c47c93"
      },
      "execution_count": 9,
      "outputs": [
        {
          "output_type": "stream",
          "name": "stdout",
          "text": [
            "Enter the keyword: if\n",
            "Your entered keyword `if` is a python keyword: True\n"
          ]
        }
      ]
    },
    {
      "cell_type": "code",
      "source": [
        "# 5. Create a list and tuple in Python, and demonstrate how attempting to change an element works differently for each\n",
        "lst = [1,2,3]\n",
        "tpl = (5,8,6)\n",
        "\n",
        "lst[0]=100  # comment these 2 lines to check for tuple\n",
        "print(lst)\n",
        "\n",
        "tpl[0]=100 # comment these 2 lines to check for list\n",
        "print(tpl)"
      ],
      "metadata": {
        "colab": {
          "base_uri": "https://localhost:8080/"
        },
        "id": "d98nyBnAbFws",
        "outputId": "6e07c9eb-928a-46aa-b64f-a57b2051b0de"
      },
      "execution_count": 11,
      "outputs": [
        {
          "output_type": "stream",
          "name": "stdout",
          "text": [
            "[100, 2, 3]\n"
          ]
        }
      ]
    },
    {
      "cell_type": "code",
      "source": [
        "# 6. Write a function to demonstrate the behavior of mutable and immutable arguments\n",
        "def modify(mutable_list, immutable_tuple):\n",
        "    mutable_list[0] = 100\n",
        "    try:\n",
        "        immutable_tuple[0] = 100\n",
        "    except TypeError as e:\n",
        "        print(f\"Error modifying tuple: {e}\")\n",
        "\n",
        "lst = [1, 2, 3]\n",
        "tpl = (1, 2, 3)\n",
        "modify(lst, tpl)\n",
        "print(\"List:\", lst)\n",
        "print(\"Tuple:\", tpl)\n"
      ],
      "metadata": {
        "colab": {
          "base_uri": "https://localhost:8080/"
        },
        "id": "Ro1406D6bzzt",
        "outputId": "21f517ef-ca80-437e-8d67-b5325e2bf091"
      },
      "execution_count": 12,
      "outputs": [
        {
          "output_type": "stream",
          "name": "stdout",
          "text": [
            "Error modifying tuple: 'tuple' object does not support item assignment\n",
            "List: [100, 2, 3]\n",
            "Tuple: (1, 2, 3)\n"
          ]
        }
      ]
    },
    {
      "cell_type": "code",
      "source": [
        "# 7. Write a program that performs basic arithmetic operations on two user-input numbers.\n",
        "\n",
        "a = float(input(\"Enter the first number: \"))\n",
        "b = float(input(\"Enter the second number: \"))\n",
        "\n",
        "print(f\"Addition: {a + b}\")\n",
        "print(f\"Subtraction: {abs(a - b)}\")\n",
        "print(f\"multiplication: {a * b}\")\n",
        "print(f\"Division: {a / b}\")"
      ],
      "metadata": {
        "colab": {
          "base_uri": "https://localhost:8080/"
        },
        "id": "5jVEJfzyd00d",
        "outputId": "42257f3a-e461-450b-87ae-d99b112b7bc4"
      },
      "execution_count": 14,
      "outputs": [
        {
          "output_type": "stream",
          "name": "stdout",
          "text": [
            "Enter the first number: 2\n",
            "Enter the second number: 6\n",
            "Addition: 8.0\n",
            "Subtraction: 4.0\n",
            "multiplication: 12.0\n",
            "Division: 0.3333333333333333\n"
          ]
        }
      ]
    },
    {
      "cell_type": "code",
      "source": [
        "# 8. Write a program to demonstrate the use of logical operators.\n",
        "a = 10\n",
        "b = 5\n",
        "print(\"a > 5 and b < 10:\", a > 5 and b < 10)\n",
        "print(\"a > 5 or b > 10:\", a > 5 or b > 10)\n",
        "print(\"not (a < 5):\", not (a < 5))\n"
      ],
      "metadata": {
        "colab": {
          "base_uri": "https://localhost:8080/"
        },
        "id": "NoA5BFINfH6A",
        "outputId": "cb00633a-d20b-4f34-d55b-8383ecc38cb9"
      },
      "execution_count": 15,
      "outputs": [
        {
          "output_type": "stream",
          "name": "stdout",
          "text": [
            "a > 5 and b < 10: True\n",
            "a > 5 or b > 10: True\n",
            "not (a < 5): True\n"
          ]
        }
      ]
    },
    {
      "cell_type": "code",
      "source": [
        "# 9. Write a Python program to convert user input from string to integer, float, and boolean types.\n",
        "s = input(\"Enter a value: \")\n",
        "print(\"Integer:\", int(s))\n",
        "print(\"Float:\", float(s))\n",
        "print(\"Boolean:\", bool(s))\n"
      ],
      "metadata": {
        "colab": {
          "base_uri": "https://localhost:8080/"
        },
        "id": "0MSbUHWFfXDt",
        "outputId": "268fc4ac-a2d6-47e7-d8e9-ea8d6af14cbb"
      },
      "execution_count": 16,
      "outputs": [
        {
          "output_type": "stream",
          "name": "stdout",
          "text": [
            "Enter a value: 4\n",
            "Integer: 4\n",
            "Float: 4.0\n",
            "Boolean: True\n"
          ]
        }
      ]
    },
    {
      "cell_type": "code",
      "source": [
        "# 10. Write code to demonstrate type casting with list elements.\n",
        "str_list = [\"1\", \"2\", \"3\"]\n",
        "int_list = list(map(int, str_list))\n",
        "print(\"Integer List:\", int_list)\n"
      ],
      "metadata": {
        "colab": {
          "base_uri": "https://localhost:8080/"
        },
        "id": "qQmlBZzXfvkf",
        "outputId": "6212e8c7-9ea6-4e30-c546-b9f48eff3dc6"
      },
      "execution_count": 17,
      "outputs": [
        {
          "output_type": "stream",
          "name": "stdout",
          "text": [
            "Integer List: [1, 2, 3]\n"
          ]
        }
      ]
    },
    {
      "cell_type": "code",
      "source": [
        "# 11. Write a program that checks if a number is positive, negative, or zero.\n",
        "num = float(input(\"Enter a number: \"))\n",
        "if num > 0:\n",
        "    print(\"Positive\")\n",
        "elif num < 0:\n",
        "    print(\"Negative\")\n",
        "else:\n",
        "    print(\"Zero\")\n"
      ],
      "metadata": {
        "id": "pJRpx_7sf8UT"
      },
      "execution_count": null,
      "outputs": []
    },
    {
      "cell_type": "code",
      "source": [
        "# 12. Write a for loop to print numbers from 1 to 10.\n",
        "for i in range(1,11):\n",
        "  print(i)"
      ],
      "metadata": {
        "colab": {
          "base_uri": "https://localhost:8080/"
        },
        "id": "JUD2aTdLgFjU",
        "outputId": "fcd766c9-1434-44e9-c455-327bfe5cdf51"
      },
      "execution_count": 19,
      "outputs": [
        {
          "output_type": "stream",
          "name": "stdout",
          "text": [
            "1\n",
            "2\n",
            "3\n",
            "4\n",
            "5\n",
            "6\n",
            "7\n",
            "8\n",
            "9\n",
            "10\n"
          ]
        }
      ]
    },
    {
      "cell_type": "code",
      "source": [
        "# 13. Write a Python program to find the sum of all even numbers between 1 and 50.\n",
        "sum_even=0\n",
        "for i in range(1,51):\n",
        "  if i%2==0:\n",
        "    sum_even+=i\n",
        "  else:\n",
        "    continue\n",
        "print(sum_even)"
      ],
      "metadata": {
        "colab": {
          "base_uri": "https://localhost:8080/"
        },
        "id": "qw3kxN7ogkoj",
        "outputId": "60fd95c3-6432-4276-cf41-2cac6b2f65ec"
      },
      "execution_count": 2,
      "outputs": [
        {
          "output_type": "stream",
          "name": "stdout",
          "text": [
            "650\n"
          ]
        }
      ]
    },
    {
      "cell_type": "code",
      "source": [
        "# 14. Write a program to reverse a string using a while loop.\n",
        "s = input(\"Enter the string you want to reverse: \")\n",
        "reversed_str = \"\"\n",
        "i = len(s) - 1\n",
        "while i >= 0:\n",
        "    reversed_str += s[i]\n",
        "    i -= 1\n",
        "print(\"Reversed:\", reversed_str)\n",
        "\n"
      ],
      "metadata": {
        "colab": {
          "base_uri": "https://localhost:8080/"
        },
        "id": "LKYw5yjTilap",
        "outputId": "c08b6712-003c-47da-84af-c288398421a4"
      },
      "execution_count": 4,
      "outputs": [
        {
          "output_type": "stream",
          "name": "stdout",
          "text": [
            "Enter the string you want to reverse: fgh hjk\n",
            "Reversed: kjh hgf\n"
          ]
        }
      ]
    },
    {
      "cell_type": "code",
      "source": [
        "# 15. Write a Python program to calculate the factorial of a number provided by the user using a while loop.\n",
        "num = int(input(\"Enter a number: \"))\n",
        "factorial = 1\n",
        "while num > 1:\n",
        "    factorial *= num\n",
        "    num -= 1\n",
        "print(\"Factorial:\", factorial)\n"
      ],
      "metadata": {
        "id": "ChUbqujinHn-"
      },
      "execution_count": null,
      "outputs": []
    }
  ]
}